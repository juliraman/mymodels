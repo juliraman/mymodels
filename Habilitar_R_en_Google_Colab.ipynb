{
  "nbformat": 4,
  "nbformat_minor": 0,
  "metadata": {
    "colab": {
      "name": "Habilitar R en Google Colab.ipynb",
      "provenance": [],
      "authorship_tag": "ABX9TyNgpMtiLEZJy0y8BoUAGZ8o",
      "include_colab_link": true
    },
    "kernelspec": {
      "name": "python3",
      "display_name": "Python 3"
    },
    "language_info": {
      "name": "python"
    }
  },
  "cells": [
    {
      "cell_type": "markdown",
      "metadata": {
        "id": "view-in-github",
        "colab_type": "text"
      },
      "source": [
        "<a href=\"https://colab.research.google.com/github/juliraman/mymodels/blob/master/Habilitar_R_en_Google_Colab.ipynb\" target=\"_parent\"><img src=\"https://colab.research.google.com/assets/colab-badge.svg\" alt=\"Open In Colab\"/></a>"
      ]
    },
    {
      "cell_type": "markdown",
      "source": [
        "# USANDO R EN GOOGLE COLAB"
      ],
      "metadata": {
        "id": "vxHxRBHj24Gc"
      }
    },
    {
      "cell_type": "markdown",
      "source": [
        "Se debe cargar la extensión `rpy2`, que cumple la función de traducción de Python a R"
      ],
      "metadata": {
        "id": "clQfLeEA4jI4"
      }
    },
    {
      "cell_type": "code",
      "execution_count": null,
      "metadata": {
        "id": "I-irM8Nm2vOr"
      },
      "outputs": [],
      "source": [
        "%load_ext rpy2.ipython"
      ]
    },
    {
      "cell_type": "markdown",
      "source": [
        "Posteriormente, antes de cada fragmento de código en R se le agrega la sentencia `%%R`"
      ],
      "metadata": {
        "id": "7ecXlPFq4sW1"
      }
    },
    {
      "cell_type": "code",
      "source": [
        "%%R\n",
        "a<-\"hola mundo\"\n",
        "a"
      ],
      "metadata": {
        "colab": {
          "base_uri": "https://localhost:8080/"
        },
        "id": "p0CPe6zG20wv",
        "outputId": "1d13fb2e-b551-4fbe-9987-39f25102a1d0"
      },
      "execution_count": null,
      "outputs": [
        {
          "output_type": "stream",
          "name": "stdout",
          "text": [
            "[1] \"hola mundo\"\n"
          ]
        }
      ]
    },
    {
      "cell_type": "code",
      "source": [],
      "metadata": {
        "id": "Iq5krf_G296b"
      },
      "execution_count": null,
      "outputs": []
    }
  ]
}